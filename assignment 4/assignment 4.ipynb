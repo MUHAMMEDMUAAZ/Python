{
 "cells": [
  {
   "cell_type": "code",
   "execution_count": 20,
   "metadata": {},
   "outputs": [
    {
     "name": "stdout",
     "output_type": "stream",
     "text": [
      "STUDENT ID : 1\n",
      "FIRST_NAME : muaaz\n",
      "LAST_NAME : asif\n",
      "AGE : 19\n",
      "CITY : karachi\n",
      "qualification :mba\n",
      "\n",
      "you are qualified\n"
     ]
    }
   ],
   "source": [
    "\"\"\"Use a dictionary to store information about a person you know. \n",
    "Store their first name, last name, age, and the city in which they live.\n",
    "You should have keys such as first_name, last_name, age, and city.\n",
    "Print each piece of information stored in your dictionary. Add a new key value pair\n",
    "about qualification then update the qualification value to high academic level then delete it.\"\"\"\n",
    "\n",
    "person_info =  {\n",
    "    \"ser_no\":1,\n",
    "    \"first_name\":\"muaaz\",\n",
    "    \"last_name\":\"asif\",\n",
    "    \"age\":\"19\",\n",
    "    \"city\":\"karachi\",\n",
    "    \"qualification\":[\"matric\",\"inter\",\"mba\",\"master\"],\n",
    "    \n",
    "}\n",
    "\n",
    "data = \"STUDENT ID : \"+str(person_info[\"ser_no\"]) + \"\\n\" +\"FIRST_NAME : \"+ person_info[\"first_name\"]+ \"\\n\" +\"LAST_NAME : \"+ person_info[\"last_name\"]+ \"\\n\" +\"AGE : \"+ person_info[\"age\"]+ \"\\n\" +\"CITY : \"+ person_info[\"city\"]\n",
    "print(data)\n",
    "\n",
    "\n",
    "a = input(\"qualification :\")\n",
    "if a == person_info[\"qualification\"][0]:\n",
    "    print(\"\")\n",
    "    print(\"you are qualified\")\n",
    "elif  a == person_info[\"qualification\"][1]:\n",
    "    print(\"\")\n",
    "    print(\"you are qualified\")\n",
    "elif  a == person_info[\"qualification\"][2]:\n",
    "    print(\"\")\n",
    "    print(\"you are qualified\")\n",
    "elif  a == person_info[\"qualification\"][3]:\n",
    "    print(\"\")\n",
    "    print(\"you are qualified\")\n",
    "else:\n",
    "    print(\"\")\n",
    "    print(\"you are not qualified\")\n",
    "    \n",
    "    \n"
   ]
  },
  {
   "cell_type": "code",
   "execution_count": 1,
   "metadata": {},
   "outputs": [
    {
     "name": "stdout",
     "output_type": "stream",
     "text": [
      "what is the city then information more about city,country,population and facts\n",
      "lahore\n",
      "City : lahore\n",
      "Country : pakistan\n",
      "Population : 11,126,000\n",
      "Country : World Range is 15\n"
     ]
    }
   ],
   "source": [
    "\"\"\"Make a dictionary called cities. Use the names of three cities as keys in your dictionary.\n",
    "Create a dictionary of information about each city and include the country that the city is in, \n",
    "its approximate population, and one fact about that city.\n",
    "The keys for each city’s dictionary should be something like country,\n",
    "Print the name of each city and all of the information you have stored about it.\"\"\"\n",
    "\n",
    "\n",
    "cities = {\n",
    "   \"karachi\" : {\n",
    "        \"city\":\"karachi\",\n",
    "        \"country\":\"pakistan\",\n",
    "        \"population\":\"14,910,352\",\n",
    "        \"facts\":\"World Range is 5\"\n",
    "    },\n",
    "      \"lahore\" :  {\n",
    "        \"city\":\"lahore\",\n",
    "        \"country\" : \"pakistan\",\n",
    "        \"population\" : \"11,126,000\",\n",
    "        \"facts\" : \"World Range is 15\"\n",
    "    },\n",
    "      \"dhaka\" :  {\n",
    "        \"city\":\"dhaka\",\n",
    "        \"country\" : \"bangladesh\",\n",
    "        \"population\" : \"14,399,000\",\n",
    "        \"facts\" : \"World Range is 6\"\n",
    "    },\n",
    "}\n",
    "\n",
    "a=input(\"what is the city then information more about city,country,population and facts\" + \"\\n\")\n",
    "if a == cities[\"karachi\"][\"city\"]:\n",
    "    data = \"City : \"+ cities[\"karachi\"][\"city\"] + \"\\n\" + \"Country : \"+cities[\"karachi\"][\"country\"]+\"\\n\" + \"Population : \"+cities[\"karachi\"][\"population\"]+\"\\n\" + \"Country : \"+cities[\"karachi\"][\"facts\"]\n",
    "    print(data)\n",
    "elif a == cities[\"lahore\"][\"city\"]:\n",
    "    data = \"City : \"+ cities[\"lahore\"][\"city\"] + \"\\n\" + \"Country : \"+cities[\"lahore\"][\"country\"]+\"\\n\" + \"Population : \"+cities[\"lahore\"][\"population\"]+\"\\n\" + \"Country : \"+cities[\"lahore\"][\"facts\"]\n",
    "    print(data)\n",
    "elif a == cities[\"dhaka\"][\"city\"]:\n",
    "    data = \"City : \"+ cities[\"dhaka\"][\"city\"] + \"\\n\" + \"Country : \"+cities[\"dhaka\"][\"country\"]+\"\\n\" + \"Population : \"+cities[\"dhaka\"][\"population\"]+\"\\n\" + \"Country : \"+cities[\"dhaka\"][\"facts\"]\n",
    "    print(data)\n",
    "else:\n",
    "    print(\"please check your city spelling\")\n",
    "\n",
    "\n",
    "        "
   ]
  },
  {
   "cell_type": "code",
   "execution_count": 3,
   "metadata": {},
   "outputs": [
    {
     "name": "stdout",
     "output_type": "stream",
     "text": [
      "what is the age 20\n",
      "cost of their movie ticket is only $15\n"
     ]
    }
   ],
   "source": [
    "\"\"\"A movie theater charges different ticket prices depending on a person’s age.\n",
    "If a person is under the age of 3, the ticket is free; if they are between 3 and 12, \n",
    "the ticket is $10; and if they are over age 12, the ticket is $15.\n",
    "Write a loop in which you ask users their age, \n",
    "and then tell them the cost of their movie ticket.\"\"\"\n",
    "\n",
    "\n",
    "person=\"what is the age \"\n",
    "\n",
    "while True:\n",
    "    person = input(person)\n",
    "    person = int(person)\n",
    "    if person<3:\n",
    "        print(\"cost of their movie ticket is FREE\")\n",
    "    elif person >= 3 and person <= 12:\n",
    "        print(\"cost of their movie ticket is only $10\")\n",
    "    else:\n",
    "         print(\"cost of their movie ticket is only $15\")\n",
    "    break;"
   ]
  },
  {
   "cell_type": "code",
   "execution_count": 6,
   "metadata": {},
   "outputs": [
    {
     "name": "stdout",
     "output_type": "stream",
     "text": [
      "My Favorite book is Alice in Wonderland\n"
     ]
    }
   ],
   "source": [
    "\"\"\"Write a function called favorite_book() that accepts one parameter, title. \n",
    "The function should print a message, such as One of my favorite books is Alice in Wonderland. \n",
    "Call the function, making sure to include a book title as an argument in the function call.\"\"\"\n",
    "\n",
    "def favorite_book(title):\n",
    "    print(\"My Favorite book is Alice in \"+title)\n",
    "favorite_book(\"Wonderland\")"
   ]
  },
  {
   "cell_type": "code",
   "execution_count": 10,
   "metadata": {},
   "outputs": [
    {
     "name": "stdout",
     "output_type": "stream",
     "text": [
      "GUESS THE NUMBER BETWEEM 1 TO 30 \n",
      "25\n",
      "Your guess is too high.\n",
      "GUESS THE NUMBER BETWEEM 1 TO 30 \n",
      "15\n",
      "Your guess is too low.\n",
      "GUESS THE NUMBER BETWEEM 1 TO 30 \n",
      "20\n",
      "Your guess is too low.\n",
      "Nope. The number I was thinking of was 24\n"
     ]
    }
   ],
   "source": [
    "\"\"\"Guess the number game\n",
    "Write a program which randomly generate a number between 1 to 30 and ask the user in input field\n",
    "to guess the correct number. Give three chances to user guess the number and also give hint to user \n",
    "if hidden number is greater or smaller than the number he given to input field.\n",
    "\"\"\"\n",
    "\n",
    "import random\n",
    "number = random.randint(1,30)\n",
    "guesstaken = 0\n",
    "\n",
    "while guesstaken<3:\n",
    "    guess = input(\"GUESS THE NUMBER BETWEEM 1 TO 30 \\n\")\n",
    "    guess = int(guess)\n",
    "    guesstaken=guesstaken + 1\n",
    "    if guess < number:\n",
    "        print('Your guess is too low.') \n",
    "    if guess > number:\n",
    "        print('Your guess is too high.')\n",
    "    if guess == number:\n",
    "         break;\n",
    "if number == guess:\n",
    "        guess = str(guess)\n",
    "        print('Good job,You guessed my number in ' + guess + ' guesses!')\n",
    "if guess != number:\n",
    "        number = str(number)\n",
    "        print('Nope. The number I was thinking of was ' + number)\n",
    "\n",
    "  "
   ]
  },
  {
   "cell_type": "code",
   "execution_count": null,
   "metadata": {},
   "outputs": [],
   "source": []
  },
  {
   "cell_type": "code",
   "execution_count": null,
   "metadata": {},
   "outputs": [],
   "source": []
  }
 ],
 "metadata": {
  "kernelspec": {
   "display_name": "Python 3",
   "language": "python",
   "name": "python3"
  }
 },
 "nbformat": 4,
 "nbformat_minor": 2
}
